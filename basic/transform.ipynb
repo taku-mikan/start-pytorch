{
 "cells": [
  {
   "cell_type": "markdown",
   "metadata": {},
   "source": [
    "# Transform\n",
    "データセットが必ずしも機械学習のアルゴリズムに適した形で手に入るとは限らない。 \n",
    "そこで、`transform`を使用して、データに適切な処理を行い、適切な形へと変形する。  \n",
    "\n",
    "`TorchVision`の全てのデータセットには、データ(特徴量)を変換するための`transform`と、  \n",
    "ラベルを変換するための、`target_transform`という二つのパラメータが存在する。  \n",
    "さらに、変換ロジックを記載したcallableを受け取る。  \n",
    "\n",
    "`torchvision.transforms`モジュールは、よく使われる変換をいくつか提供している。  \n",
    "以下そのうち二つの変換を示す。  \n",
    "1. `ToTensor`  \n",
    "2. `Lambda`  \n",
    "\n",
    "具体的には、FasionMNISTのデータセットに対して、  \n",
    "PIL形式の画像である特徴量 -> 正規化されたテンソルへ変換 (ToTensor)  \n",
    "int型のラベル -> one-hot形式のラベルへ変換 (Lambda)  \n",
    "を用いて変形する"
   ]
  },
  {
   "cell_type": "code",
   "execution_count": null,
   "metadata": {},
   "outputs": [],
   "source": [
    "%matplotlib inline\n",
    "\n",
    "import torch\n",
    "from torchvision import datasets\n",
    "from torchvision.transforms import ToTensor, Lambda"
   ]
  },
  {
   "cell_type": "markdown",
   "metadata": {},
   "source": [
    "# ToTensor\n",
    "`ToTensor`は、PIL形式の画像 or Numpyの`ndarray`を、`FloatTensor`に変換する。\n",
    "加えて、画像の場合には、[0,1]の範囲に変換する。\n",
    "\n",
    "# Lambda\n",
    "Lambda transformは、ユーザーが定義した関数を実行するpythonの関数  \n",
    "次のFasionMNISTでは、  \n",
    "1. 大きさ10(クラス数)のゼロテンソルを作成し(`torch.zeros`)  \n",
    "2. ラベル(y)の値のindexのみ1に変換する(one-hot encoder)(`torch.scatter_`)  "
   ]
  },
  {
   "cell_type": "code",
   "execution_count": null,
   "metadata": {},
   "outputs": [],
   "source": [
    "ds = datasets.FashionMNIST(\n",
    "    root=\"data\",\n",
    "    train=True,\n",
    "    download=True,\n",
    "    transform=ToTensor(),\n",
    "    target_transform=Lambda(lambda y: torch.zeros(10, dtype=float).scatter_(0, torch.tensor(y), value=1))\n",
    ")"
   ]
  },
  {
   "cell_type": "markdown",
   "metadata": {},
   "source": [
    "## さらなる詳細\n",
    "より詳細の情報は、[torchvision.transforms API](https://pytorch.org/vision/stable/transforms.html)を参照"
   ]
  },
  {
   "cell_type": "code",
   "execution_count": null,
   "metadata": {},
   "outputs": [],
   "source": []
  }
 ],
 "metadata": {
  "interpreter": {
   "hash": "1f5b1a9f36cac5504d3212872bcc323699452b76dcccf68776354c7e475628a4"
  },
  "kernelspec": {
   "display_name": "Python 3.8.8 64-bit ('base': conda)",
   "language": "python",
   "name": "python3"
  },
  "language_info": {
   "codemirror_mode": {
    "name": "ipython",
    "version": 3
   },
   "file_extension": ".py",
   "mimetype": "text/x-python",
   "name": "python",
   "nbconvert_exporter": "python",
   "pygments_lexer": "ipython3",
   "version": "3.8.8"
  }
 },
 "nbformat": 4,
 "nbformat_minor": 2
}
