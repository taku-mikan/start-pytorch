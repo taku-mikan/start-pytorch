{
 "cells": [
  {
   "cell_type": "markdown",
   "metadata": {},
   "source": [
    "# モデルの保存と読み込み\n",
    "1. モデルを保存する方法  \n",
    "2. モデルを読み込み推論を行う方法  \n",
    "の二つを説明する。"
   ]
  },
  {
   "cell_type": "code",
   "execution_count": null,
   "metadata": {},
   "outputs": [],
   "source": [
    "import torch\n",
    "import torch.onnx as onnx\n",
    "import torchvision.models as models"
   ]
  },
  {
   "cell_type": "markdown",
   "metadata": {},
   "source": [
    "# モデルの重みの保存と読み込み\n",
    "(1) モデルの保存\n",
    "> Pytorchのモデルでは、  \n",
    "> 学習したパラメータを内部に**状態辞書(`state_dict)`**として保持している。  \n",
    "> これらのパラメータの値は、`torch.save`を用いて保存することができる。  \n",
    "\n",
    "(2) モデルの読み込み\n",
    "> あらかじめ同じモデルの形をしたインスタンスを用意する。  \n",
    "> そのインスタンスに対して、`load_state_dict()`メソッドを使用して、  \n",
    "> パラメータの値を読み込む。  \n",
    "> DropoutやBatchNormalizationレイヤをevvaluationモードに切り替えるために、  \n",
    "> **推論前に**`model.eval()`を実行することを忘れないようにしなければならない。  "
   ]
  },
  {
   "cell_type": "code",
   "execution_count": null,
   "metadata": {},
   "outputs": [],
   "source": [
    "model = models.vgg16(pretrained=True)\n",
    "torch.save(model.state_dict(), 'model.weights.pth')"
   ]
  },
  {
   "cell_type": "code",
   "execution_count": null,
   "metadata": {},
   "outputs": [],
   "source": [
    "model = models.vgg16()\n",
    "#  pretrained=Trueを引数に渡していないため、デフォルトのランダムな値になっている\n",
    "model.load_state_dict(torch.load('model_weights.pth'))\n",
    "model.eval()"
   ]
  },
  {
   "cell_type": "markdown",
   "metadata": {},
   "source": [
    "# モデルの形状ごと保存・読み込む方法\n",
    "(1) モデルの重みをロードする場合  \n",
    "> 先にモデルのインスタンスを用意する。  \n",
    "> `model.state_dict`を用いる  \n",
    "\n",
    "(2) モデルの形状ごと重みとロードする  \n",
    "> `model`に対して、`torch.load()`を渡す  \n",
    "> この方法はPythonの`pickle`モジュールをモデルのシリアライズに使用する。  \n",
    "> そのため、モデルのロード時に、実際のクラスの定義が利用可能である必要がある。  \n",
    "> 具体的には、自作クラスなどを用いている場合、importするなどして使用可能にしておく必要がある  "
   ]
  },
  {
   "cell_type": "markdown",
   "metadata": {},
   "source": [
    "# ONNX形式でのモデルの出力 ; Exporting Model to ONNX\n",
    "まだ用いないので一旦省略"
   ]
  },
  {
   "cell_type": "code",
   "execution_count": null,
   "metadata": {},
   "outputs": [],
   "source": []
  }
 ],
 "metadata": {
  "interpreter": {
   "hash": "1f5b1a9f36cac5504d3212872bcc323699452b76dcccf68776354c7e475628a4"
  },
  "kernelspec": {
   "display_name": "Python 3.8.8 64-bit ('base': conda)",
   "language": "python",
   "name": "python3"
  },
  "language_info": {
   "codemirror_mode": {
    "name": "ipython",
    "version": 3
   },
   "file_extension": ".py",
   "mimetype": "text/x-python",
   "name": "python",
   "nbconvert_exporter": "python",
   "pygments_lexer": "ipython3",
   "version": "3.8.8"
  }
 },
 "nbformat": 4,
 "nbformat_minor": 2
}
