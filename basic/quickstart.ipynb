{
 "cells": [
  {
   "cell_type": "markdown",
   "metadata": {},
   "source": [
    "# クイックスタート\n",
    "各セクションの使い方のまとめ\n",
    "\n",
    "## 1. データの取り扱い\n",
    "PyTorchでデータを取り扱う際には、基本的な要素が二つ存在した。  \n",
    "`torch.utils.data.Dataset`と`torch.utils.data.DataLoader`の二つ。  \n",
    "\n",
    "`DataSet`は、各ラベルとそれに対応するサンプルデータを保持する。  \n",
    "`DataLoader` は、`DataSet`を反復処理可能にラッピングを施したものとなる。"
   ]
  },
  {
   "cell_type": "code",
   "execution_count": null,
   "metadata": {},
   "outputs": [],
   "source": []
  },
  {
   "cell_type": "code",
   "execution_count": null,
   "metadata": {},
   "outputs": [],
   "source": []
  },
  {
   "cell_type": "code",
   "execution_count": null,
   "metadata": {},
   "outputs": [],
   "source": []
  },
  {
   "cell_type": "code",
   "execution_count": null,
   "metadata": {},
   "outputs": [],
   "source": []
  }
 ],
 "metadata": {
  "language_info": {
   "name": "python"
  }
 },
 "nbformat": 4,
 "nbformat_minor": 2
}
