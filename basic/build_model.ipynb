{
 "cells": [
  {
   "cell_type": "markdown",
   "metadata": {},
   "source": [
    "# モデルの構築\n",
    "\n",
    "## ニューラルネットワークのモデルの作成\n",
    "ニューラルネットワークは、**レイヤ(モジュール)**と呼ばれるデータ操作の入れ子で構成される。  \n",
    "特に、pytorchでは、`torch.nn`で独自のニューラルネットワークを構築するためのクラスや関数が揃っている。  \n",
    "また、pytorchの全てのモジュールは、`torch.nn.Module`を継承している。  \n",
    "このような入れ子構造により、複雑な構造を簡単に構築・管理することができる。\n",
    "\n",
    "以下、FashionMNISTを分類するネットワークを構築する。"
   ]
  },
  {
   "cell_type": "code",
   "execution_count": null,
   "metadata": {},
   "outputs": [],
   "source": [
    "%matplotlib inline\n",
    "\n",
    "import os\n",
    "import torch\n",
    "from torch import nn\n",
    "from torch.utils.data import DataLoader\n",
    "from torchvision import datasets, transforms"
   ]
  },
  {
   "cell_type": "markdown",
   "metadata": {},
   "source": [
    "## CPUかGPUか\n",
    "GPUが使用できる環境であレバ、GPUを用いる方が良い。(高速ゆえ)  \n",
    "GPUが使用可能かどうかは、`torch.cuda`の結果から判断が可能。  \n",
    "GPUが使用可能でない場合、CPUを用いて学習を行う。"
   ]
  },
  {
   "cell_type": "code",
   "execution_count": null,
   "metadata": {},
   "outputs": [],
   "source": [
    "device = 'cuda' if torch.cuda.is_available() else 'cpu'\n",
    "print(f\"Using {device} device\")"
   ]
  },
  {
   "cell_type": "markdown",
   "metadata": {},
   "source": [
    "## モデルのクラスの定義\n",
    "`nn.Module`を継承させ、独自のネットワークモデルを定義し、  \n",
    "その後、`__init__`により、初期化する。  \n",
    "`nn.Module`を継承した全てのモジュールは、順伝播のための`forward`関数を持たなければならない。"
   ]
  },
  {
   "cell_type": "code",
   "execution_count": null,
   "metadata": {},
   "outputs": [],
   "source": [
    "class NeuralNetwork(nn.Module):\n",
    "    def __init__(self):\n",
    "        super(NeuralNetwork, self).__init__()\n",
    "        self.flatten = nn.Flatten()\n",
    "        self.linear_relu_stack = nn.Sequential(\n",
    "            nn.Linear(28*28, 512),\n",
    "            nn.ReLU(),\n",
    "            nn.Linear(512, 512),\n",
    "            nn.ReLU(),\n",
    "            nn.Linear(512, 10),\n",
    "            nn.ReLU()\n",
    "        )\n",
    "    \n",
    "    def forward(self, x):\n",
    "        x = self.flatten(x)\n",
    "        logits = self.linear_relu_stack(x)\n",
    "        return logits"
   ]
  },
  {
   "cell_type": "markdown",
   "metadata": {},
   "source": [
    "## クラスの定義後\n",
    "作成したモデルのインスタンスを作成し、  \n",
    "**変数`device`上へと移動**させる\n",
    "\n",
    "## モデルに入力を渡す\n",
    "入力データをモデルに渡すと**自動的に**`forward`関数で処理されるとともに、  \n",
    "いくつか`background.operations`が実行される。  \n",
    "そのため、**`model.forward()`**と書いて直接えーたを処理しないように注意する。  \n",
    "\n",
    "以下、今回のモデルでは  \n",
    "各クラスの生の予測値を含む10次元のテンソルが返されるため、  \n",
    "`nn.SOftmax`モジュールにこの結果を与えることで、各クラスに属する確率の予測値を出力する"
   ]
  },
  {
   "cell_type": "code",
   "execution_count": null,
   "metadata": {},
   "outputs": [],
   "source": [
    "model = NeuralNetwork().to(device)\n",
    "print(model)"
   ]
  },
  {
   "cell_type": "code",
   "execution_count": null,
   "metadata": {},
   "outputs": [],
   "source": [
    "# 仮の入力データの作成\n",
    "X = torch.rand(1, 28, 28, device=device)\n",
    "logits = model(X)\n",
    "pred_logits = nn.Softmax(dim=1)(logits) # 確率を計算\n",
    "y_pred = pred_logits.argmax(1) # 最も確率の高いものを予測結果へ\n",
    "print(f\"Predicted class : {y_pred}\")\n"
   ]
  },
  {
   "cell_type": "markdown",
   "metadata": {},
   "source": [
    "## 各モデルレイヤの確認\n",
    "一つ一つのレイヤを順を追って解説。僕は飛ばします。\n",
    "[元記事](https://colab.research.google.com/github/YutaroOgawa/pytorch_tutorials_jp/blob/main/notebook/0_Learn%20the%20Basics/0_4_buildmodel_tutorial_js.ipynb)参照"
   ]
  },
  {
   "cell_type": "markdown",
   "metadata": {},
   "source": [
    "## モデルパラメータ\n",
    "ニューラルネットワークを構成する多くのモジュールはそれぞれに重みが存在することが多く、  \n",
    "重みやバイアスなど。学習時には、これらを最適化する。\n",
    "\n",
    "`nn.Module`を継承したモデルオブジェクトで定義された全てのフィールドは、動的に追跡することができる。  \n",
    "`parameters()`や、`named_parameters()`メソッドを用いて、  \n",
    "モデルの各レイヤの全てのパラメータにアクセスすることができる。  \n",
    "\n",
    "以下、for文を用いて、各パラメータを追跡する"
   ]
  },
  {
   "cell_type": "code",
   "execution_count": null,
   "metadata": {},
   "outputs": [],
   "source": [
    "print(f\"Model stracture : {model} \\n\")\n",
    "\n",
    "for name, param in model.named_parameters():\n",
    "    print(f\"Layer: {name} | Size: {param.size()} | Values: {param[:2]} \\n\")"
   ]
  },
  {
   "cell_type": "markdown",
   "metadata": {},
   "source": [
    "## より詳細な情報\n",
    "より詳細なページは[torch.nn API](https://pytorch.org/docs/stable/nn.html)を参照"
   ]
  },
  {
   "cell_type": "code",
   "execution_count": null,
   "metadata": {},
   "outputs": [],
   "source": []
  }
 ],
 "metadata": {
  "interpreter": {
   "hash": "1f5b1a9f36cac5504d3212872bcc323699452b76dcccf68776354c7e475628a4"
  },
  "kernelspec": {
   "display_name": "Python 3.8.8 64-bit ('base': conda)",
   "language": "python",
   "name": "python3"
  },
  "language_info": {
   "codemirror_mode": {
    "name": "ipython",
    "version": 3
   },
   "file_extension": ".py",
   "mimetype": "text/x-python",
   "name": "python",
   "nbconvert_exporter": "python",
   "pygments_lexer": "ipython3",
   "version": "3.8.8"
  }
 },
 "nbformat": 4,
 "nbformat_minor": 2
}
